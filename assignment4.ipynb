{
 "cells": [
  {
   "cell_type": "markdown",
   "id": "e42d0437-03de-4dfe-86d8-ff0862d2a203",
   "metadata": {},
   "source": [
    "que 1."
   ]
  },
  {
   "cell_type": "code",
   "execution_count": 1,
   "id": "fadb1aca-f651-45bf-ad47-cf657cf2b5a2",
   "metadata": {},
   "outputs": [
    {
     "name": "stdout",
     "output_type": "stream",
     "text": [
      "1\n",
      "2\n",
      "3\n",
      "4\n",
      "5\n"
     ]
    }
   ],
   "source": [
    "#print number from 1 to 5 using while loop\n",
    "i=1\n",
    "while i<=5:\n",
    "    print(i)\n",
    "    i=i+1\n",
    "    \n"
   ]
  },
  {
   "cell_type": "markdown",
   "id": "688122d1-3591-4a38-9a0f-d272fbb5c266",
   "metadata": {},
   "source": [
    "que 2."
   ]
  },
  {
   "cell_type": "code",
   "execution_count": 6,
   "id": "0ae03995-5457-4891-b944-bafb7d838aee",
   "metadata": {},
   "outputs": [
    {
     "name": "stdout",
     "output_type": "stream",
     "text": [
      "1\n",
      "3\n",
      "6\n",
      "10\n",
      "15\n",
      "21\n",
      "28\n",
      "36\n",
      "45\n",
      "55\n"
     ]
    }
   ],
   "source": [
    "#print sum of number from 1 to 10 using while loop\n",
    "i=0\n",
    "n=1\n",
    "while n<=10:\n",
    "    i=i+n\n",
    "    n=n+1\n",
    "    print(i)\n",
    "\n"
   ]
  },
  {
   "cell_type": "markdown",
   "id": "9d367efe-c845-4fa2-ad13-c5f6d9f03a82",
   "metadata": {},
   "source": [
    "que 3."
   ]
  },
  {
   "cell_type": "code",
   "execution_count": 11,
   "id": "e9e23b83-048b-458e-8001-98ddaf531526",
   "metadata": {},
   "outputs": [
    {
     "name": "stdout",
     "output_type": "stream",
     "text": [
      "1\n",
      "2\n",
      "6\n",
      "24\n",
      "120\n"
     ]
    }
   ],
   "source": [
    "#calculating a factorial of a number using for loop(1*2*3*4*5)\n",
    "n=5\n",
    "fact=1\n",
    "for i in range(1,n+1):\n",
    "    fact*=i\n",
    "    print(fact)"
   ]
  },
  {
   "cell_type": "markdown",
   "id": "cc40e870-9378-4bf0-bd24-392ee283386e",
   "metadata": {},
   "source": [
    "que.4"
   ]
  },
  {
   "cell_type": "code",
   "execution_count": 3,
   "id": "fd2fc58d-2404-4f96-8d2e-60985b99fc35",
   "metadata": {},
   "outputs": [
    {
     "name": "stdout",
     "output_type": "stream",
     "text": [
      "a\n",
      "e\n",
      "i\n",
      "o\n",
      "u\n"
     ]
    }
   ],
   "source": [
    "#Count the number of vowel in a string using a for loop.\n",
    "a=\"aeiou\"\n",
    "for i in a:\n",
    "    print(i)\n",
    "    \n"
   ]
  },
  {
   "cell_type": "markdown",
   "id": "5d8c2fe8-49fe-46ff-adf6-dfb1981a846f",
   "metadata": {},
   "source": [
    "que 5"
   ]
  },
  {
   "cell_type": "code",
   "execution_count": 8,
   "id": "d5fbc413-6ae7-4102-acea-9f7ab8e86ace",
   "metadata": {},
   "outputs": [
    {
     "name": "stdout",
     "output_type": "stream",
     "text": [
      "* \n",
      "* * \n",
      "* * * \n",
      "* * * * \n",
      "* * * * * \n"
     ]
    }
   ],
   "source": [
    "# Print a pattern using nested loop.\n",
    "rows = 5 \n",
    "\n",
    "for i in range(1, rows + 1):\n",
    "    for j in range(1, i + 1):\n",
    "        print(\"*\", end=\" \")\n",
    "    print()"
   ]
  },
  {
   "cell_type": "markdown",
   "id": "5ec03590-9c28-4d30-a6ec-c9b8376bff8d",
   "metadata": {},
   "source": [
    "que 6"
   ]
  },
  {
   "cell_type": "code",
   "execution_count": 15,
   "id": "0b79003d-8241-44eb-b813-6868c9ddadbd",
   "metadata": {},
   "outputs": [
    {
     "name": "stdin",
     "output_type": "stream",
     "text": [
      "enter any number 3\n"
     ]
    },
    {
     "name": "stdout",
     "output_type": "stream",
     "text": [
      "3\n",
      "6\n",
      "9\n",
      "12\n",
      "15\n",
      "18\n",
      "21\n",
      "24\n",
      "27\n",
      "30\n"
     ]
    }
   ],
   "source": [
    "#Generate a multiplication table using nested loop.\n",
    "i=1\n",
    "n=int(input(\"enter any number\"))\n",
    "while i<=10:\n",
    "      print(n*i)\n",
    "      i+=1\n",
    "      "
   ]
  },
  {
   "cell_type": "code",
   "execution_count": null,
   "id": "7b5aad70-7a20-4cfc-94a9-c1e862ab316d",
   "metadata": {},
   "outputs": [],
   "source": []
  }
 ],
 "metadata": {
  "kernelspec": {
   "display_name": "Python 3 (ipykernel)",
   "language": "python",
   "name": "python3"
  },
  "language_info": {
   "codemirror_mode": {
    "name": "ipython",
    "version": 3
   },
   "file_extension": ".py",
   "mimetype": "text/x-python",
   "name": "python",
   "nbconvert_exporter": "python",
   "pygments_lexer": "ipython3",
   "version": "3.10.8"
  }
 },
 "nbformat": 4,
 "nbformat_minor": 5
}
